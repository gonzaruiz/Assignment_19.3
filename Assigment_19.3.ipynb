{
 "cells": [
  {
   "cell_type": "code",
   "execution_count": null,
   "metadata": {},
   "outputs": [],
   "source": [
    "#Group1\tGroup2\t\t\tF-Test Two-Sample for Variances\t\t\n",
    "#10\t5\t\t\t\t\t\n",
    "#20\t10\t\t\t\tVariable 1\tVariable 2\n",
    "#30\t15\t\t\tMean\t30\t15\n",
    "#40\t20\t\t\tVariance\t250\t62,5\n",
    "#50\t25\t\t\tObservations\t5\t5\n",
    "#\t\t\t\tdf\t4\t4\n",
    "#\t\t\t\tF\t4\t\n",
    "#H0 (Null Hypothesis)\t\t\t\tP(F<=f) one-tail\t0,104\t\n",
    "#H0: Variance 1 = Variance 2\t\t\t\tF Critical one-tail\t6,388232909\t\n",
    "#\t\t\t\t\t\t\n",
    "#H1: Variance 1 <> Variance 2\t\t\t\tConclusion: if F < F Critical one-tail, we cannot reject the null hypothesis. In this case, 4 < 6.388. Therefore, we cannot reject the null hypothesis. \t\t\n"
   ]
  }
 ],
 "metadata": {
  "kernelspec": {
   "display_name": "Python 3",
   "language": "python",
   "name": "python3"
  },
  "language_info": {
   "codemirror_mode": {
    "name": "ipython",
    "version": 3
   },
   "file_extension": ".py",
   "mimetype": "text/x-python",
   "name": "python",
   "nbconvert_exporter": "python",
   "pygments_lexer": "ipython3",
   "version": "3.6.4"
  }
 },
 "nbformat": 4,
 "nbformat_minor": 2
}
